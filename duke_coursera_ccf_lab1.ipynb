{
  "nbformat": 4,
  "nbformat_minor": 0,
  "metadata": {
    "colab": {
      "provenance": []
    },
    "kernelspec": {
      "name": "python3",
      "display_name": "Python 3"
    },
    "language_info": {
      "name": "python"
    }
  },
  "cells": [
    {
      "cell_type": "code",
      "execution_count": 1,
      "metadata": {
        "colab": {
          "base_uri": "https://localhost:8080/"
        },
        "id": "2gev7CHPhKlp",
        "outputId": "cfe44678-4491-4c66-847e-33a9fb30df77"
      },
      "outputs": [
        {
          "output_type": "stream",
          "name": "stdout",
          "text": [
            "hello world\n"
          ]
        }
      ],
      "source": [
        "def test():\n",
        "  print(\"hello world\")\n",
        "\n",
        "test()"
      ]
    },
    {
      "cell_type": "markdown",
      "source": [
        "# test title"
      ],
      "metadata": {
        "id": "iPCaEObDnUl-"
      }
    },
    {
      "cell_type": "code",
      "source": [],
      "metadata": {
        "id": "kW8etNYVu_wW"
      },
      "execution_count": null,
      "outputs": []
    }
  ]
}